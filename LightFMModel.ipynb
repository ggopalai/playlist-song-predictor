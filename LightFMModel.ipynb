{
 "cells": [
  {
   "cell_type": "code",
   "execution_count": null,
   "id": "abc15329-f243-4b7b-b90c-72e7b9921bfa",
   "metadata": {},
   "outputs": [],
   "source": [
    "import json\n",
    "import pandas as pd\n",
    "import random\n",
    "import numpy as np\n",
    "from tqdm import tqdm\n",
    "from collections import defaultdict\n",
    "import rankfm\n",
    "from lightfm import LightFM"
   ]
  },
  {
   "cell_type": "code",
   "execution_count": null,
   "id": "887d05dc-c18c-48dc-ae23-989c6d96ddac",
   "metadata": {},
   "outputs": [],
   "source": [
    "num_interactions = 1000000\n",
    "interactions_df= pd.read_csv(\"interactions.csv\",nrows=num_interactions)\n",
    "interactions_df.head(100)"
   ]
  },
  {
   "cell_type": "code",
   "execution_count": null,
   "id": "b9fa3717-9a9b-4aaf-a240-5703c86e6753",
   "metadata": {},
   "outputs": [],
   "source": [
    "interactions = interactions_df.values.tolist()\n",
    "del interactions_df"
   ]
  },
  {
   "cell_type": "code",
   "execution_count": null,
   "id": "717dd204-87c2-459c-b5e9-ddbef7b1aac3",
   "metadata": {},
   "outputs": [],
   "source": [
    "print(interactions[:10])"
   ]
  },
  {
   "cell_type": "code",
   "execution_count": null,
   "id": "4656296e-c9ae-48dd-9cf4-220a9744a372",
   "metadata": {},
   "outputs": [],
   "source": [
    "frequencies = defaultdict(int)\n",
    "songsPerPlaylist = defaultdict(list)\n",
    "playlistsPerSong = defaultdict(list)\n",
    "songIds = {}\n",
    "playlistIds = set()\n",
    "for row in tqdm(interactions):\n",
    "    \n",
    "    song = row[2]\n",
    "    songIds[song] = len(songIds) #Assiging ID to song\n",
    "    song = songIds[song]  \n",
    "    frequencies[song] += 1\n",
    "    pid = row[1]\n",
    "    songsPerPlaylist[pid].append(song)\n",
    "    playlistsPerSong[song].append(pid)"
   ]
  },
  {
   "cell_type": "code",
   "execution_count": null,
   "id": "8080ddd3-ea43-43da-8d38-5bcc6d6b97b4",
   "metadata": {},
   "outputs": [],
   "source": [
    "nPlaylists,nSongs = len(songsPerPlaylist.keys()),len(songIds)\n",
    "print(nPlaylists,nSongs)"
   ]
  },
  {
   "cell_type": "code",
   "execution_count": null,
   "id": "7fd149ef-ccf8-4d76-b6ad-6a0c10e8d19f",
   "metadata": {},
   "outputs": [],
   "source": [
    "interactions_fm = [[d[1],songIds[d[2]]] for d in interactions]\n",
    "n = len(interactions_fm)\n",
    "print(n)\n",
    "print(interactions_fm[:100])"
   ]
  },
  {
   "cell_type": "markdown",
   "id": "6083f798-3b8b-4d75-b908-d8b9a375dcc9",
   "metadata": {},
   "source": [
    "### LightFM"
   ]
  },
  {
   "cell_type": "code",
   "execution_count": null,
   "id": "262a6141-6ff7-4a5d-a854-cc727e321e03",
   "metadata": {},
   "outputs": [],
   "source": [
    "model = LightFM(loss='warp')"
   ]
  },
  {
   "cell_type": "code",
   "execution_count": null,
   "id": "5a7ca1a6-13d0-4bdd-b624-7dcdba58670d",
   "metadata": {},
   "outputs": [],
   "source": [
    "### load coo_matrix from Scipy.sparse module\n",
    "from scipy.sparse import coo_matrix\n",
    "random.shuffle(interactions_fm)  #Shuffling the interactions data\n",
    "#print(interactions_fm[:10])\n",
    "#Splitting the interactions data\n",
    "n = len(interactions_fm)\n",
    "interactions_train, interactions_test = interactions_fm[:9*n//10], interactions_fm[9*n//10:]\n",
    "#print(interactions_test[:10])\n",
    "print(len(interactions_train),len(interactions_test))\n",
    "row_indices_train = [d[0] for d in interactions_train]\n",
    "column_indices_train = [d[1] for d in interactions_train]\n",
    "values_train = [1 for i in range(len(interactions_train))]\n",
    "\n",
    "interactions_matrix_train = coo_matrix((values_train,(row_indices_train,column_indices_train)))\n",
    "\n",
    "print(interactions_matrix_train.shape)\n",
    "\n",
    "row_indices_test = [d[0] for d in interactions_test]\n",
    "column_indices_test = [d[1] for d in interactions_test]\n",
    "values_test = [1 for i in range(len(interactions_test))]\n",
    "\n",
    "print(len(row_indices_test),len(column_indices_test),len(values_test))\n",
    "\n",
    "interactions_matrix_test = coo_matrix((values_test,(row_indices_test,column_indices_test)))\n",
    "\n",
    "print(interactions_matrix_test.shape)"
   ]
  },
  {
   "cell_type": "code",
   "execution_count": null,
   "id": "d3ba85f3-f32b-4933-8d83-fdaf5a0deb21",
   "metadata": {},
   "outputs": [],
   "source": [
    "%time model.fit(interactions_matrix_train, epochs=50, num_threads=4, verbose=True)"
   ]
  },
  {
   "cell_type": "code",
   "execution_count": null,
   "id": "c40fbfe8-777e-4256-ae39-b1fdf5286b47",
   "metadata": {},
   "outputs": [],
   "source": [
    "from lightfm.evaluation import precision_at_k, auc_score\n",
    "\n",
    "%time print(\"Train precision: %.2f\" % precision_at_k(model, interactions_matrix_train, k=5).mean())\n",
    "%time print(\"Test precision: %.2f\" % precision_at_k(model, interactions_matrix_test, k=5).mean())"
   ]
  },
  {
   "cell_type": "code",
   "execution_count": null,
   "id": "185d167f-c489-4000-9d00-e5df86e96890",
   "metadata": {},
   "outputs": [],
   "source": [
    "from lightfm.evaluation import auc_score\n",
    "%time print(\"Train auc score: %.4f\" % auc_score(model, interactions_matrix_train).mean())\n",
    "%time print(\"Test suc score: %.4f\" % auc_score(model, interactions_matrix_test).mean())"
   ]
  },
  {
   "cell_type": "code",
   "execution_count": null,
   "id": "e20a5fe3-ca90-45ee-8f35-988b7ebcb11b",
   "metadata": {},
   "outputs": [],
   "source": []
  }
 ],
 "metadata": {
  "kernelspec": {
   "display_name": "Python 3.8 - AzureML",
   "language": "python",
   "name": "python38-azureml"
  },
  "language_info": {
   "codemirror_mode": {
    "name": "ipython",
    "version": 3
   },
   "file_extension": ".py",
   "mimetype": "text/x-python",
   "name": "python",
   "nbconvert_exporter": "python",
   "pygments_lexer": "ipython3",
   "version": "3.8.5"
  }
 },
 "nbformat": 4,
 "nbformat_minor": 5
}
